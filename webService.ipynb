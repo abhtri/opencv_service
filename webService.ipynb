{
 "cells": [
  {
   "cell_type": "code",
   "execution_count": 10,
   "metadata": {},
   "outputs": [],
   "source": [
    "import flask\n",
    "from flask import request, render_template,send_file\n",
    "import base64\n",
    "import cv2"
   ]
  },
  {
   "cell_type": "code",
   "execution_count": 11,
   "metadata": {},
   "outputs": [],
   "source": [
    "app = flask.Flask(__name__)\n",
    "@app.route(\"/\")\n",
    "def viz_page():\n",
    "    return render_template('index.html')"
   ]
  },
  {
   "cell_type": "code",
   "execution_count": 12,
   "metadata": {},
   "outputs": [],
   "source": [
    "@app.route('/upload', methods=['GET', 'POST'])\n",
    "def hello():\n",
    "    if request.method == 'POST':  \n",
    "        f = request.files['image']\n",
    "        print('saving the uploaded image ')\n",
    "        f.save('temp/' + '1.jpg')\n",
    "        #img = ms.serviceImage1()\n",
    "        #cv2.imwrite('temp/1.jpg',img)\n",
    "        image = cv2.imread('temp/1.jpg')\n",
    "        gray= cv2.cvtColor(image, cv2.COLOR_BGR2GRAY)\n",
    "        print('image 1 read ')\n",
    "        _, img_encoded = cv2.imencode('.jpg', gray)\n",
    "        print('sending data back')\n",
    "        return base64.b64encode(img_encoded)"
   ]
  },
  {
   "cell_type": "code",
   "execution_count": null,
   "metadata": {},
   "outputs": [
    {
     "name": "stdout",
     "output_type": "stream",
     "text": [
      " * Serving Flask app \"__main__\" (lazy loading)\n",
      " * Environment: production\n",
      "   WARNING: This is a development server. Do not use it in a production deployment.\n",
      "   Use a production WSGI server instead.\n",
      " * Debug mode: off\n"
     ]
    },
    {
     "name": "stderr",
     "output_type": "stream",
     "text": [
      " * Running on http://127.0.0.1:5000/ (Press CTRL+C to quit)\n",
      "127.0.0.1 - - [12/Feb/2020 00:33:27] \"GET / HTTP/1.1\" 200 -\n",
      "127.0.0.1 - - [12/Feb/2020 00:33:33] \"POST /upload HTTP/1.1\" 200 -\n"
     ]
    },
    {
     "name": "stdout",
     "output_type": "stream",
     "text": [
      "saving the uploaded image \n",
      "image 1 read \n",
      "sending data back\n",
      "saving the uploaded image \n"
     ]
    },
    {
     "name": "stderr",
     "output_type": "stream",
     "text": [
      "127.0.0.1 - - [12/Feb/2020 00:41:34] \"POST /upload HTTP/1.1\" 200 -\n"
     ]
    },
    {
     "name": "stdout",
     "output_type": "stream",
     "text": [
      "image 1 read \n",
      "sending data back\n"
     ]
    }
   ],
   "source": [
    "if __name__ == '__main__':\n",
    "    app.run(port=5000,debug=False, threaded=False)"
   ]
  },
  {
   "cell_type": "code",
   "execution_count": null,
   "metadata": {},
   "outputs": [],
   "source": []
  }
 ],
 "metadata": {
  "kernelspec": {
   "display_name": "Python 3",
   "language": "python",
   "name": "python3"
  },
  "language_info": {
   "codemirror_mode": {
    "name": "ipython",
    "version": 3
   },
   "file_extension": ".py",
   "mimetype": "text/x-python",
   "name": "python",
   "nbconvert_exporter": "python",
   "pygments_lexer": "ipython3",
   "version": "3.8.1"
  }
 },
 "nbformat": 4,
 "nbformat_minor": 4
}
